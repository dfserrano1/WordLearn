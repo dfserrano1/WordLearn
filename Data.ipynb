{
 "cells": [
  {
   "cell_type": "code",
   "execution_count": 38,
   "id": "aead26a4-8ebe-497c-8095-b5e309724246",
   "metadata": {},
   "outputs": [
    {
     "data": {
      "text/plain": [
       "108231"
      ]
     },
     "execution_count": 38,
     "metadata": {},
     "output_type": "execute_result"
    }
   ],
   "source": [
    "import pandas as pd\n",
    "import matplotlib.pyplot as plt\n",
    "df = pd.read_csv(\"OPTED-Dictionary.csv\")\n",
    "df = df.drop_duplicates(subset=\"Word\")\n",
    "df = df.dropna()\n",
    "df = df[~df['Word'].str.contains('[0-9\\-]')]\n",
    "df['Word'] = df['Word'].astype(str)\n",
    "df['Word'].nunique()"
   ]
  },
  {
   "cell_type": "code",
   "execution_count": 39,
   "id": "7fae2266-def9-47ca-b2f3-f7edf9f43e35",
   "metadata": {},
   "outputs": [
    {
     "name": "stdout",
     "output_type": "stream",
     "text": [
      "<class 'pandas.core.frame.DataFrame'>\n",
      "Int64Index: 36552 entries, 11 to 176008\n",
      "Data columns (total 4 columns):\n",
      " #   Column      Non-Null Count  Dtype \n",
      "---  ------      --------------  ----- \n",
      " 0   Word        36552 non-null  object\n",
      " 1   Count       36552 non-null  object\n",
      " 2   POS         36552 non-null  object\n",
      " 3   Definition  36552 non-null  object\n",
      "dtypes: object(4)\n",
      "memory usage: 1.4+ MB\n"
     ]
    }
   ],
   "source": [
    "word_counts = df[\"Word\"].str.len()\n",
    "df = df[(word_counts >= 3) & (word_counts <= 7)]\n",
    "df.info()"
   ]
  },
  {
   "cell_type": "code",
   "execution_count": 40,
   "id": "15fb306f-4596-47f3-a02a-f68a40c2aecb",
   "metadata": {},
   "outputs": [
    {
     "data": {
      "text/plain": [
       "36552"
      ]
     },
     "execution_count": 40,
     "metadata": {},
     "output_type": "execute_result"
    }
   ],
   "source": [
    "df[\"Word\"].nunique()"
   ]
  },
  {
   "cell_type": "code",
   "execution_count": 41,
   "id": "a8ebaa1e-f91f-47f8-8a30-641355c51af6",
   "metadata": {},
   "outputs": [],
   "source": [
    "df.to_csv(\"unique_words.csv\")"
   ]
  },
  {
   "cell_type": "code",
   "execution_count": null,
   "id": "09c8d860-ae2c-4353-8411-0aa8d14d47d2",
   "metadata": {},
   "outputs": [],
   "source": []
  }
 ],
 "metadata": {
  "kernelspec": {
   "display_name": "UFRC Python-3.10",
   "language": "python",
   "name": "python3-3.10-ufrc"
  },
  "language_info": {
   "codemirror_mode": {
    "name": "ipython",
    "version": 3
   },
   "file_extension": ".py",
   "mimetype": "text/x-python",
   "name": "python",
   "nbconvert_exporter": "python",
   "pygments_lexer": "ipython3",
   "version": "3.10.5"
  }
 },
 "nbformat": 4,
 "nbformat_minor": 5
}
